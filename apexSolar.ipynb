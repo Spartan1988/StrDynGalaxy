{
 "cells": [
  {
   "cell_type": "markdown",
   "metadata": {},
   "source": [
    "# <center>Cálculo do apex Solar<center>\n",
    "## <center>Direção do movimento peculiar do Sol<center>\n",
    "\n",
    "Calcular o apex solar usando as componentes da velocidade obtidas por Coskunoglu et. al.\n",
    "Num gráfico mostrar a posição do apex em referência as constelações zodiacais.\n",
    "\n",
    "|    (km/s)   | Coskunoglu et. al.  | \n",
    "|-------------|---------------------|\n",
    "| $u_{\\odot}$ |<center>8.50<center> | \n",
    "| $v_{\\odot}$ |<center>13.38<center>|\n",
    "| $w_{\\odot}$ |<center>6.49<center> |"
   ]
  },
  {
   "cell_type": "code",
   "execution_count": 4,
   "metadata": {
    "collapsed": false
   },
   "outputs": [
    {
     "name": "stdout",
     "output_type": "stream",
     "text": [
      "La norma de la velocidad es |Vs| = 17.1287623604\n"
     ]
    }
   ],
   "source": [
    "# Importando los paquetes necesarios para realizar los cálculos\n",
    "import numpy as np\n",
    "from astropy import units as u\n",
    "from astropy.coordinates import SkyCoord\n",
    "from astropy.coordinates import get_constellation\n",
    "\n",
    "U = 8.50\n",
    "V = 13.38\n",
    "W = 6.49\n",
    "Speed = np.sqrt(U**2 + V**2 + W**2)\n",
    "print 'La norma de la velocidad es |Vs| =' ,Speed"
   ]
  },
  {
   "cell_type": "markdown",
   "metadata": {},
   "source": [
    "Se puede realizar una estimación de los valores para la longitud y latitud galáctica del apex a partir de los valores de V, W y Speed mostrados en la celda superior.\n",
    "\n",
    "\\begin{align}\n",
    "b_{apex} &= \\arcsin(W/Speed)\\\\\n",
    "l_{apex} &= \\arctan(V/U)\n",
    "\\end{align}"
   ]
  },
  {
   "cell_type": "code",
   "execution_count": 5,
   "metadata": {
    "collapsed": false
   },
   "outputs": [
    {
     "name": "stdout",
     "output_type": "stream",
     "text": [
      "The Galactic coordinates of the apex are:\n",
      "57.5731628615 longitude\n",
      "22.265244473 latitude\n"
     ]
    }
   ],
   "source": [
    "# Cálculo de las coordenadas b y l para el apex solar usando los valores de V, W y Speed\n",
    "b_apex = np.arcsin(W/Speed)\n",
    "bdeg_apex = np.degrees(b_apex)\n",
    "l_apex = np.arctan(V/U)\n",
    "ldeg_apex = np.degrees(l_apex)\n",
    "print \"The Galactic coordinates of the apex are:\"\n",
    "print ldeg_apex, \"longitude\" \n",
    "print bdeg_apex, \"latitude\""
   ]
  },
  {
   "cell_type": "code",
   "execution_count": 6,
   "metadata": {
    "collapsed": false
   },
   "outputs": [
    {
     "data": {
      "text/plain": [
       "<SkyCoord (Galactic): (l, b) in deg\n",
       "    ( 57.57316286,  22.26524447)>"
      ]
     },
     "execution_count": 6,
     "metadata": {},
     "output_type": "execute_result"
    }
   ],
   "source": [
    "L = ldeg_apex*u.degree\n",
    "B = bdeg_apex*u.degree\n",
    "apex = SkyCoord(L, B, frame = 'galactic')\n",
    "apex"
   ]
  },
  {
   "cell_type": "code",
   "execution_count": 10,
   "metadata": {
    "collapsed": false
   },
   "outputs": [
    {
     "name": "stdout",
     "output_type": "stream",
     "text": [
      "Las cordenadas del apex solar son: ra = 18.1337484345 y dec = 31.0757117517\n"
     ]
    }
   ],
   "source": [
    "ra = 18.1340594*u.hour\n",
    "dec = 31.0712296*u.degree\n",
    "Apex = apex.icrs\n",
    "#print Apex\n",
    "print \"Las cordenadas del apex solar son: ra =\", Apex.ra.hour, \"y dec =\", Apex.dec.deg"
   ]
  },
  {
   "cell_type": "markdown",
   "metadata": {},
   "source": [
    "Estos links pueden ser utiles para comparar los resultados obtenidos:\n",
    "\n",
    "* Este link contiene una aplicación para encontrar la constelación respectiva a partir de los valores asignados para ra y dec.\n",
    "\n",
    "[Constellation Finder](http://djm.cc/constellation.html \"Permalink to Find the constellation which contains given sky coordinates\")\n",
    "\n",
    "* Este link contiene una aplicación para transformar de coordenadas galacticas a equatoriales.\n",
    "\n",
    "[Galactic to Equatiorial converter](http://www.astrouw.edu.pl/~jskowron/l-b/?q=57.57 22.26 \"Permalink to l b galactic to equatorial converter\")"
   ]
  },
  {
   "cell_type": "markdown",
   "metadata": {},
   "source": [
    "Imagen obtenida usando el software Stellarium. Puede apreciarse que el apex solar se encuentra en la constelación de hércules.\n",
    "\n",
    "<img src=\"Apex2.png\" width=\"800\" height =\"800\">"
   ]
  },
  {
   "cell_type": "code",
   "execution_count": null,
   "metadata": {
    "collapsed": true
   },
   "outputs": [],
   "source": []
  }
 ],
 "metadata": {
  "kernelspec": {
   "display_name": "Python 2",
   "language": "python",
   "name": "python2"
  },
  "language_info": {
   "codemirror_mode": {
    "name": "ipython",
    "version": 2
   },
   "file_extension": ".py",
   "mimetype": "text/x-python",
   "name": "python",
   "nbconvert_exporter": "python",
   "pygments_lexer": "ipython2",
   "version": "2.7.13"
  }
 },
 "nbformat": 4,
 "nbformat_minor": 2
}
