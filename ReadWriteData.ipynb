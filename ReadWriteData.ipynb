{
 "cells": [
  {
   "cell_type": "code",
   "execution_count": 10,
   "metadata": {
    "collapsed": false
   },
   "outputs": [],
   "source": [
    "import numpy as np\n",
    "from astropy.io import ascii\n",
    "import urllib2\n",
    "url ='http://www.physics.mcmaster.ca/~harris/mwgc.dat'\n",
    "open('mwgc.dat','wb').write(urllib2.urlopen(url).read())"
   ]
  },
  {
   "cell_type": "code",
   "execution_count": 11,
   "metadata": {
    "collapsed": false
   },
   "outputs": [],
   "source": [
    "f=open('mwgc.dat','r')\n",
    "Line=[]\n",
    "i=0\n",
    "#for line in f:\n",
    "#    print repr(line)\n",
    "for line in f:\n",
    "    Line.append(line)\n",
    "    #print Line[i]\n",
    "    i+=1\n",
    "#for i in range(0,70):\n",
    "#    print f.readline()\n",
    "f.close()"
   ]
  },
  {
   "cell_type": "code",
   "execution_count": 12,
   "metadata": {
    "collapsed": false
   },
   "outputs": [],
   "source": [
    "f=open('Coordinates.csv','w')\n",
    "for i in range(70,230):\n",
    "    f.write(Line[i])\n",
    "    #print Line[i]\n",
    "f.close()"
   ]
  },
  {
   "cell_type": "code",
   "execution_count": 13,
   "metadata": {
    "collapsed": false
   },
   "outputs": [],
   "source": [
    "#f=open('Coordinates.csv','r')\n",
    "#for line in f:\n",
    "#    print repr(line)\n",
    "#    line.split()\n",
    "#    columns = line.split()\n",
    "#    print columns"
   ]
  },
  {
   "cell_type": "code",
   "execution_count": 14,
   "metadata": {
    "collapsed": false
   },
   "outputs": [
    {
     "name": "stdout",
     "output_type": "stream",
     "text": [
      "97\n",
      "'   ID        Name           RA   (2000)   DEC         L       B     R_Sun  R_gc    X     Y     Z\\n'\n",
      "   ID        Name           RA   (2000)   DEC         L       B     R_Sun  R_gc    X     Y     Z\n",
      "\n"
     ]
    }
   ],
   "source": [
    "print len(Line[70])\n",
    "print repr(Line[70])\n",
    "#for i in range(0,97):\n",
    "#    print i, Line[70][i]\n",
    "Column = Line[70]\n",
    "print Column\n",
    "#np.insert(Column,[11],8)"
   ]
  },
  {
   "cell_type": "code",
   "execution_count": 24,
   "metadata": {
    "collapsed": false
   },
   "outputs": [],
   "source": [
    "f=open('MetallicPhotom.csv','w')\n",
    "for i in range(250,409):\n",
    "    f.write(Line[i])\n",
    "    #print Line[i]\n",
    "f.close()"
   ]
  },
  {
   "cell_type": "code",
   "execution_count": 27,
   "metadata": {
    "collapsed": false
   },
   "outputs": [],
   "source": [
    "f=open('VelocStrucParam.csv','w')\n",
    "for i in range(431,590):\n",
    "    f.write(Line[i])\n",
    "    #print Line[i]\n",
    "f.close()"
   ]
  },
  {
   "cell_type": "code",
   "execution_count": null,
   "metadata": {
    "collapsed": true
   },
   "outputs": [],
   "source": []
  }
 ],
 "metadata": {
  "kernelspec": {
   "display_name": "Python 2",
   "language": "python",
   "name": "python2"
  },
  "language_info": {
   "codemirror_mode": {
    "name": "ipython",
    "version": 2
   },
   "file_extension": ".py",
   "mimetype": "text/x-python",
   "name": "python",
   "nbconvert_exporter": "python",
   "pygments_lexer": "ipython2",
   "version": "2.7.13"
  }
 },
 "nbformat": 4,
 "nbformat_minor": 0
}
